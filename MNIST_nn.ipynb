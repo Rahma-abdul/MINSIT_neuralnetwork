{
 "cells": [
  {
   "cell_type": "markdown",
   "metadata": {},
   "source": [
    "Imports needed "
   ]
  },
  {
   "cell_type": "code",
   "execution_count": 28,
   "metadata": {},
   "outputs": [],
   "source": [
    "import torch\n",
    "\n",
    "from torchvision import datasets\n",
    "from torchvision.transforms import ToTensor\n",
    "from torch.utils.data import DataLoader\n",
    "import torch.nn as nn\n",
    "import torch.nn.functional as F\n",
    "import torch.optim as optim\n",
    "\n",
    "from sklearn.model_selection import train_test_split\n"
   ]
  },
  {
   "cell_type": "markdown",
   "metadata": {},
   "source": [
    "Loading Dataset"
   ]
  },
  {
   "cell_type": "code",
   "execution_count": 29,
   "metadata": {},
   "outputs": [],
   "source": [
    "#Reading from given archive file both the training and the test sets\n",
    "\n",
    "dataset = datasets.MNIST(root=\"/archive\", download=False, train=True, transform=ToTensor())\n",
    "data_loaded = DataLoader(dataset, batch_size=32)\n",
    "\n",
    "#Dataloader was used to create batch sizes -->32\n",
    "\n",
    "test_data = datasets.MNIST(root=\"/archive\", download=False, train=False, transform=ToTensor())\n",
    "test_dataloaded = DataLoader(test_data, batch_size=32)\n"
   ]
  },
  {
   "cell_type": "markdown",
   "metadata": {},
   "source": [
    "PreProcessing Data"
   ]
  },
  {
   "cell_type": "code",
   "execution_count": null,
   "metadata": {},
   "outputs": [],
   "source": []
  },
  {
   "cell_type": "markdown",
   "metadata": {},
   "source": [
    "Splitting Data"
   ]
  },
  {
   "cell_type": "code",
   "execution_count": 43,
   "metadata": {},
   "outputs": [],
   "source": [
    "#Specifying features and targets\n",
    "x = dataset.data\n",
    "y = dataset.targets\n",
    "#Splitting into train set and validation set\n",
    "x_train, x_valid, y_train, y_valid = train_test_split(x,y,test_size=0.2)\n",
    "\n",
    "#Training dataset \n",
    "train_data = x_train.join(y_train)"
   ]
  },
  {
   "cell_type": "markdown",
   "metadata": {},
   "source": [
    "Building Neural network Model Architecture (Class)\n"
   ]
  },
  {
   "cell_type": "code",
   "execution_count": 25,
   "metadata": {},
   "outputs": [
    {
     "data": {
      "text/plain": [
       "neural_net(\n",
       "  (conv1): Conv2d(1, 10, kernel_size=(5, 5), stride=(1, 1))\n",
       "  (conv2): Conv2d(10, 20, kernel_size=(5, 5), stride=(1, 1))\n",
       "  (dropout2): Dropout2d(p=0.5, inplace=False)\n",
       "  (fc1): Linear(in_features=320, out_features=150, bias=True)\n",
       "  (fc2): Linear(in_features=150, out_features=80, bias=True)\n",
       "  (fc3): Linear(in_features=80, out_features=30, bias=True)\n",
       "  (out): Linear(in_features=30, out_features=10, bias=True)\n",
       ")"
      ]
     },
     "execution_count": 25,
     "metadata": {},
     "output_type": "execute_result"
    }
   ],
   "source": [
    "#class containing constructor and forward_prop function \n",
    "#Constructor --> defining input/hidden/output layers and the realtion between them\n",
    "#Forward_prop --> defining the activation function for forward pass (relu)\n",
    "\n",
    "#using CNN because there are some layers that don't need fully connected layers -->locally connected only \n",
    "#using CNN for processing image so it won't take a long processing time like regular neural networks\n",
    "#using pooling decreases size of the convulotion output\n",
    "\n",
    "#Image --> Convolution --> Pooling --> Flatten --> Fully connected\n",
    "\n",
    "class neural_net(nn.Module):\n",
    "    def __init__(self):\n",
    "        super(neural_net,self).__init__()\n",
    "        #defining architecture\n",
    "\n",
    "        # 1) Convolution Layer\n",
    "        self.conv1 = nn.Conv2d(1,10,kernel_size=5)\n",
    "        self.conv2 = nn.Conv2d(10,20,kernel_size=5)\n",
    "\n",
    "        #bonus -->drop out layer (ignores random neural so not all of it is used in training)\n",
    "        #Doesn't change the shape of the data\n",
    "        self.dropout2 = nn.Dropout2d()\n",
    "\n",
    "        #Fully Connected layers\n",
    "        #320-->150-->80-->30-->10\n",
    "        # In layer --> 320 neurons\n",
    "        # hidden1 --> 150 neurons\n",
    "        # hidden2 --> 80 neurons\n",
    "        # hidden3 --> 30 neurons\n",
    "        # out layer --> 10 neurons (representing 0-->9)\n",
    "        self.fc1 = nn.Linear(320,150)\n",
    "        self.fc2 = nn.Linear(150,80)\n",
    "        self.fc3 = nn.Linear(80,30)\n",
    "        self.out = nn.Linear(30,10)\n",
    "        \n",
    "\n",
    "    #forward propagation function    \n",
    "    def forward_prop(self,x):\n",
    "        # 2) Pooling Layer\n",
    "        #using ReLu Activation function\n",
    "        x = F.relu(F.max_pool2d(self.conv1(x),2))\n",
    "        x = F.relu(F.max_pool2d(self.dropout2(self.conv2(x)), 2))\n",
    "\n",
    "        # 3) FLatten the data --> for the linear layers\n",
    "        x.view(-1,320) # -1 --> so we can change batch sizes\n",
    "\n",
    "        # 4) Fully connected layers\n",
    "        x = F.relu(self.fc1(x))\n",
    "        #another dropout layer --> for regularization\n",
    "        x = F.dropout(x, training=self.training)\n",
    "        \n",
    "        x = F.relu(self.fc2(x))\n",
    "        x = F.relu(self.fc3(x))\n",
    "        x = self.out(x)\n",
    "\n",
    "        return F.softmax(x) #--> returns probability of each digit\n",
    "    \n",
    "\n",
    "#create model instance\n",
    "model = neural_net()"
   ]
  },
  {
   "cell_type": "markdown",
   "metadata": {},
   "source": [
    "Set Optimizer,Learning Rate,Loss Function definition"
   ]
  },
  {
   "cell_type": "code",
   "execution_count": null,
   "metadata": {},
   "outputs": [],
   "source": [
    "#Learning rate --> 0.01 (the smaller lr is the longer training time)\n",
    "#Op --> SGD\n",
    "optimizer = optim.sgd(model.parameters(), lr = 0.01, momentum = 0.5)\n",
    "\n",
    "#Loss --> Cross Entropy\n",
    "loss = nn.CrossEntropyLoss()"
   ]
  },
  {
   "cell_type": "markdown",
   "metadata": {},
   "source": [
    "Training the Model (Loop)"
   ]
  },
  {
   "cell_type": "code",
   "execution_count": null,
   "metadata": {},
   "outputs": [],
   "source": [
    "#Array to track training\n",
    "train_loss = []\n",
    "train_correct = []\n",
    "\n",
    "validation_loss =[]\n",
    "validtaion_correct =[]\n",
    "\n",
    "\n",
    "#Epochs Number (no. of runs on training set)\n",
    "\n",
    "#Training Function\n",
    "\n",
    "#Update the paramters\n",
    "#If the loss doesn't decrease in output --> smaller learning rate\n"
   ]
  },
  {
   "cell_type": "markdown",
   "metadata": {},
   "source": [
    "Plotting Training and validation loss and accuracy"
   ]
  },
  {
   "cell_type": "code",
   "execution_count": null,
   "metadata": {},
   "outputs": [],
   "source": []
  },
  {
   "cell_type": "markdown",
   "metadata": {},
   "source": [
    "Calling the training and validation Function"
   ]
  },
  {
   "cell_type": "code",
   "execution_count": null,
   "metadata": {},
   "outputs": [],
   "source": [
    "#Change learning rates, batch sizes\n"
   ]
  },
  {
   "cell_type": "markdown",
   "metadata": {},
   "source": [
    "Testing "
   ]
  },
  {
   "cell_type": "code",
   "execution_count": null,
   "metadata": {},
   "outputs": [],
   "source": [
    "#Test And count how many was correct"
   ]
  },
  {
   "cell_type": "markdown",
   "metadata": {},
   "source": [
    "Saving Model"
   ]
  },
  {
   "cell_type": "code",
   "execution_count": null,
   "metadata": {},
   "outputs": [],
   "source": []
  }
 ],
 "metadata": {
  "kernelspec": {
   "display_name": "Python 3",
   "language": "python",
   "name": "python3"
  },
  "language_info": {
   "codemirror_mode": {
    "name": "ipython",
    "version": 3
   },
   "file_extension": ".py",
   "mimetype": "text/x-python",
   "name": "python",
   "nbconvert_exporter": "python",
   "pygments_lexer": "ipython3",
   "version": "3.10.6"
  }
 },
 "nbformat": 4,
 "nbformat_minor": 2
}
